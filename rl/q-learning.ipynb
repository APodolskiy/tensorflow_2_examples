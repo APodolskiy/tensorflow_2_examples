{
 "cells": [
  {
   "cell_type": "code",
   "execution_count": null,
   "metadata": {},
   "outputs": [],
   "source": [
    "from collections import namedtuple\n",
    "import random\n",
    "from typing import List, NamedTuple\n",
    "\n",
    "import gym\n",
    "\n",
    "import numpy as np\n",
    "import tensorflow as tf\n",
    "from tensorflow.keras import layers"
   ]
  },
  {
   "cell_type": "code",
   "execution_count": null,
   "metadata": {},
   "outputs": [],
   "source": [
    "Transition = namedtuple('Transition', 'state action reward next_state done')"
   ]
  },
  {
   "cell_type": "code",
   "execution_count": null,
   "metadata": {},
   "outputs": [],
   "source": [
    "class VectorizeWrapper(gym.Wrapper):\n",
    "    def __init__(self, make_env, num_envs: int=1):\n",
    "        super().__init__(make_env())\n",
    "        self.num_envs = num_envs\n",
    "        self.envs = [make_env() for env_index in range(self.num_envs)]\n",
    "    \n",
    "    def reset(self):\n",
    "        return np.array([env.reset() for env in range(self.envs)])\n",
    "    \n",
    "    def reset_at(self, idx: int):\n",
    "        return self.envs[idx].reset()\n",
    "    \n",
    "    def step(self, actions):\n",
    "        assert len(actions) == len(self.envs)\n",
    "        next_states, rewards, dones, infos = [], [], [], []\n",
    "        for env, action in zip(self.envs, actions):\n",
    "            next_state, reward, done, info = env.step(action)\n",
    "            next_states.append(next_state)\n",
    "            rewards.append(reward)\n",
    "            dones.append(done)\n",
    "            infos.append(info)\n",
    "        return np.array([next_states]), np.array(rewards), \\\n",
    "               np.array([dones]), np.array(infos)"
   ]
  },
  {
   "cell_type": "code",
   "execution_count": null,
   "metadata": {},
   "outputs": [],
   "source": [
    "class DiscreteToBoxCoverter(gym.ObservationWrapper):\n",
    "    def __init__(self, env):\n",
    "        super"
   ]
  },
  {
   "cell_type": "code",
   "execution_count": 51,
   "metadata": {},
   "outputs": [],
   "source": [
    "class ReplayBuffer:\n",
    "    def __init__(self, capacity: int = 100000):\n",
    "        self.capacity = capacity\n",
    "        self.buffer = []\n",
    "        self.position = 0\n",
    "        \n",
    "    def push(self, transition):\n",
    "        if len(self.buffer) < self.capacity:\n",
    "            self.buffer.append(None)\n",
    "        self.buffer[self.position] = transition\n",
    "        self.position = (self.position + 1) % self.capacity\n",
    "    \n",
    "    def sample(self, batch_size: int) -> List[NamedTuple]:\n",
    "        if len(self.buffer) < batch_size:\n",
    "            raise ValueError(f\"Can't sample {batch_size} num elements from buffer of size {self.buffer}\")\n",
    "        return random.sample(self.buffer, batch_size)\n",
    "    \n",
    "    def __len__(self):\n",
    "        return len(self.buffer)"
   ]
  },
  {
   "cell_type": "code",
   "execution_count": 52,
   "metadata": {},
   "outputs": [],
   "source": [
    "def create_model(state_dim: int, action_dim: int, hidden_sizes: List[int]):\n",
    "    model = tf.keras.models.Sequential()\n",
    "    model.add(layers.InputLayer(input_shape=state_dim))\n",
    "    for hidden_size in hidden_sizes:\n",
    "        model.add(layers.Dense(hidden_size))\n",
    "        model.add(layers.LeakyReLU())\n",
    "    model.add(layers.Dense(action_dim))\n",
    "    \n",
    "    return model\n",
    "\n",
    "def sync_models(model1, model2):\n",
    "    model2.set_weights(model1.get_weights())"
   ]
  },
  {
   "cell_type": "code",
   "execution_count": 53,
   "metadata": {},
   "outputs": [],
   "source": [
    "class EpsScheduler:\n",
    "    def __init__(self, init_eps: float = 1.0, end_eps: float = 0.25, steps: int = 10_000):\n",
    "        self.init_eps = init_eps\n",
    "        self.end_eps = end_eps\n",
    "        self.steps = steps\n",
    "        self.step = (self.init_eps - self.final_eps) / self.steps\n",
    "        self.cur_step = 0\n",
    "        \n",
    "    def __call__(self, current_step = None):\n",
    "        if current_step is None:\n",
    "            current_step = self.cur_step\n",
    "            self.cur_step += 1\n",
    "        eps = max(self.final_eps, self.init_eps - self.step * current_step)\n",
    "        return eps"
   ]
  },
  {
   "cell_type": "code",
   "execution_count": 54,
   "metadata": {},
   "outputs": [],
   "source": [
    "class Agent:\n",
    "    def __init__(self, state_dim: int, action_dim: int):\n",
    "        self.state_dim = state_dim\n",
    "        self.action_dim = action_dim\n",
    "        \n",
    "    def act(self, state):\n",
    "        raise NotImplementedError()\n",
    "        \n",
    "    def update(self, transitions):\n",
    "        raise NotImplementedError()"
   ]
  },
  {
   "cell_type": "code",
   "execution_count": 58,
   "metadata": {},
   "outputs": [],
   "source": [
    "class DQN(Agent):\n",
    "    def __init__(self, state_dim: int, action_dim: int, hidden_sizes: List[int], gamma: float=0.95):\n",
    "        super(DQN, self).__init__(state_dim, action_dim)\n",
    "        self.q_net = create_model(state_dim, action_dim, hidden_sizes)\n",
    "        self.optimizer = tf.keras.optimizers.Adam()\n",
    "        self.eps = EpsScheduler()\n",
    "        \n",
    "    def act(self, state):\n",
    "        batch_size = state.shape[0]\n",
    "        eps = self.eps()\n",
    "        bern_samples = (np.random.rand(batch_size) < eps).astype(float)\n",
    "        random_steps = np.random.randint(self.action_dim, size=batch_size)\n",
    "        best_q_steps = np.argmax(self.q_net(state), axis=1)\n",
    "        return bern_samples * random_steps + (1 - bern_samples) * best_q_steps\n",
    "    \n",
    "    def _prepare_batches(self, transitions):\n",
    "        state, action, reward, next_state, done = [], [], [], [], []\n",
    "        for transition in transitions:\n",
    "            state.append(transition.state)\n",
    "            action.append(transition.action)\n",
    "            reward.append(transition.reward)\n",
    "            next_state.append(transition.next_state)\n",
    "            done.append(transition.done)\n",
    "        state = np.array(state)\n",
    "        action = np.array(action)\n",
    "        reward = np.array(reward)\n",
    "        next_state = np.array(next_state)\n",
    "        done = np.array(done)\n",
    "        return state, action, reward, next_state, done\n",
    "    \n",
    "    def update(self, transitions):\n",
    "        state, action, reward, next_state, done = self._prepare_batches(transitions)\n",
    "        with tf.GradientTape as tape:\n",
    "            Q_pred = tf.reduce_sum(self.q_net(state)*tf.one_hot(action, self.action_dim, dtype=tf.float64))\n",
    "            Q_next = tf.stop_gradient(tf.reduce_max(self.q_net(next_state), axis=1))\n",
    "            loss = tf.reduce_mean((Q_pred - (1 - done)*(reward + self.gamma * Q_next))**2)\n",
    "        gradients = tape.gradient(loss, self.q_net.trainable_variables)\n",
    "        self.optimizer.apply_gradients(zip(gradients, self.q_net.trainable_variables))"
   ]
  },
  {
   "cell_type": "code",
   "execution_count": null,
   "metadata": {},
   "outputs": [],
   "source": [
    "class DDQN:\n",
    "    def __init__(self, state_dim: int, action_dim: int, hidden_sizes: List[int], gamma: float=0.95):\n",
    "        super(DDQN, self).__init__(state_dim, action_dim)\n",
    "        self.q_net = create_model(state_dim, action_dim, hidden_sizes)\n",
    "        self.target_net = create_model(state_dim, action_dim, hidden_sizes)\n",
    "        sync_models(self.q_net, self.target_net)\n",
    "        self.optimizer = tf.keras.optimizers.Adam()\n",
    "    \n",
    "    def act(self, state):\n",
    "        pass\n",
    "    \n",
    "    def update(self):\n",
    "        with tf.GradientTape as tape:\n",
    "            pass"
   ]
  },
  {
   "cell_type": "code",
   "execution_count": null,
   "metadata": {},
   "outputs": [],
   "source": []
  }
 ],
 "metadata": {
  "kernelspec": {
   "display_name": "Tensorflow",
   "language": "python",
   "name": "tensorflow"
  },
  "language_info": {
   "codemirror_mode": {
    "name": "ipython",
    "version": 3
   },
   "file_extension": ".py",
   "mimetype": "text/x-python",
   "name": "python",
   "nbconvert_exporter": "python",
   "pygments_lexer": "ipython3",
   "version": "3.7.4"
  }
 },
 "nbformat": 4,
 "nbformat_minor": 2
}
