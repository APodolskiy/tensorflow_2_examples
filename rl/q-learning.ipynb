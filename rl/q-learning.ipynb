{
 "cells": [
  {
   "cell_type": "code",
   "execution_count": 53,
   "metadata": {},
   "outputs": [],
   "source": [
    "from collections import namedtuple\n",
    "from functools import partial\n",
    "import random\n",
    "from typing import List, NamedTuple\n",
    "\n",
    "import gym\n",
    "\n",
    "import numpy as np\n",
    "import tensorflow as tf\n",
    "from tensorflow.keras import layers\n",
    "\n",
    "import matplotlib"
   ]
  },
  {
   "cell_type": "code",
   "execution_count": 54,
   "metadata": {},
   "outputs": [],
   "source": [
    "Transition = namedtuple('Transition', 'state action reward next_state done')"
   ]
  },
  {
   "cell_type": "code",
   "execution_count": 55,
   "metadata": {},
   "outputs": [],
   "source": [
    "class VectorizeWrapper(gym.Wrapper):\n",
    "    def __init__(self, make_env, num_envs: int=1):\n",
    "        super().__init__(make_env())\n",
    "        self.num_envs = num_envs\n",
    "        self.envs = [make_env() for env_index in range(self.num_envs)]\n",
    "    \n",
    "    def reset(self):\n",
    "        return np.array([env.reset() for env in range(self.envs)])\n",
    "    \n",
    "    def reset_at(self, idx: int):\n",
    "        return self.envs[idx].reset()\n",
    "    \n",
    "    def step(self, actions):\n",
    "        assert len(actions) == len(self.envs)\n",
    "        next_states, rewards, dones, infos = [], [], [], []\n",
    "        for env, action in zip(self.envs, actions):\n",
    "            next_state, reward, done, info = env.step(action)\n",
    "            next_states.append(next_state)\n",
    "            rewards.append(reward)\n",
    "            dones.append(done)\n",
    "            infos.append(info)\n",
    "        return next_states, rewards, dones, infos\n",
    "        #return np.array([next_states]), np.array(rewards), \\\n",
    "        #       np.array([dones]), np.array(infos)"
   ]
  },
  {
   "cell_type": "code",
   "execution_count": 56,
   "metadata": {},
   "outputs": [],
   "source": [
    "class DiscreteConverter(gym.ObservationWrapper):\n",
    "    def __init__(self, env):\n",
    "        super(DiscreteConverter, self).__init__(env)\n",
    "        self.n = self.observation_space.n\n",
    "        self.observation_space = gym.spaces.Box(0, 1, (self.n,))\n",
    "    \n",
    "    def obs(self, obs):\n",
    "        new_obs = np.zeros(self.n)\n",
    "        new_obs[obs] = 1\n",
    "        return new_obs"
   ]
  },
  {
   "cell_type": "code",
   "execution_count": 57,
   "metadata": {},
   "outputs": [],
   "source": [
    "class ReplayBuffer:\n",
    "    def __init__(self, capacity: int = 100000):\n",
    "        self.capacity = capacity\n",
    "        self.buffer = []\n",
    "        self.position = 0\n",
    "        \n",
    "    def push(self, transition):\n",
    "        if len(self.buffer) < self.capacity:\n",
    "            self.buffer.append(None)\n",
    "        self.buffer[self.position] = transition\n",
    "        self.position = (self.position + 1) % self.capacity\n",
    "    \n",
    "    def sample(self, batch_size: int) -> List[NamedTuple]:\n",
    "        if len(self.buffer) < batch_size:\n",
    "            raise ValueError(f\"Can't sample {batch_size} num elements from buffer of size {self.buffer}\")\n",
    "        return random.sample(self.buffer, batch_size)\n",
    "    \n",
    "    def __len__(self):\n",
    "        return len(self.buffer)"
   ]
  },
  {
   "cell_type": "code",
   "execution_count": 58,
   "metadata": {},
   "outputs": [],
   "source": [
    "def create_model(state_dim: int, action_dim: int, hidden_sizes: List[int]):\n",
    "    model = tf.keras.models.Sequential()\n",
    "    model.add(layers.InputLayer(input_shape=state_dim))\n",
    "    for hidden_size in hidden_sizes:\n",
    "        model.add(layers.Dense(hidden_size))\n",
    "        model.add(layers.LeakyReLU())\n",
    "    model.add(layers.Dense(action_dim))\n",
    "    \n",
    "    return model\n",
    "\n",
    "def sync_models(model1, model2):\n",
    "    model2.set_weights(model1.get_weights())"
   ]
  },
  {
   "cell_type": "code",
   "execution_count": 65,
   "metadata": {},
   "outputs": [],
   "source": [
    "class EpsScheduler:\n",
    "    def __init__(self, init_eps: float = 1.0, final_eps: float = 0.25, steps: int = 10_000):\n",
    "        self.init_eps = init_eps\n",
    "        self.steps = steps\n",
    "        self.final_eps = final_eps\n",
    "        self.step = (self.init_eps - self.final_eps) / self.steps\n",
    "        self.cur_step = 0\n",
    "        \n",
    "    def __call__(self, current_step = None):\n",
    "        if current_step is None:\n",
    "            current_step = self.cur_step\n",
    "            self.cur_step += 1\n",
    "        eps = max(self.final_eps, self.init_eps - self.step * current_step)\n",
    "        return eps"
   ]
  },
  {
   "cell_type": "code",
   "execution_count": 66,
   "metadata": {},
   "outputs": [],
   "source": [
    "class Agent:\n",
    "    def __init__(self, state_dim: int, action_dim: int):\n",
    "        self.state_dim = state_dim\n",
    "        self.action_dim = action_dim\n",
    "        \n",
    "    def act(self, state):\n",
    "        raise NotImplementedError()\n",
    "        \n",
    "    def update(self, transitions):\n",
    "        raise NotImplementedError()"
   ]
  },
  {
   "cell_type": "code",
   "execution_count": 67,
   "metadata": {},
   "outputs": [],
   "source": [
    "class DQN(Agent):\n",
    "    def __init__(self, state_dim: int, action_dim: int, hidden_sizes: List[int], gamma: float=0.95):\n",
    "        super(DQN, self).__init__(state_dim, action_dim)\n",
    "        self.q_net = create_model(state_dim, action_dim, hidden_sizes)\n",
    "        self.optimizer = tf.keras.optimizers.Adam()\n",
    "        self.eps = EpsScheduler()\n",
    "        \n",
    "    def act(self, state):\n",
    "        batch_size = state.shape[0]\n",
    "        eps = self.eps()\n",
    "        bern_samples = (np.random.rand(batch_size) < eps).astype(float)\n",
    "        random_steps = np.random.randint(self.action_dim, size=batch_size)\n",
    "        best_q_steps = np.argmax(self.q_net(state), axis=1)\n",
    "        return bern_samples * random_steps + (1 - bern_samples) * best_q_steps\n",
    "    \n",
    "    def _prepare_batches(self, transitions):\n",
    "        state, action, reward, next_state, done = [], [], [], [], []\n",
    "        for transition in transitions:\n",
    "            state.append(transition.state)\n",
    "            action.append(transition.action)\n",
    "            reward.append(transition.reward)\n",
    "            next_state.append(transition.next_state)\n",
    "            done.append(transition.done)\n",
    "        state = np.array(state)\n",
    "        action = np.array(action)\n",
    "        reward = np.array(reward)\n",
    "        next_state = np.array(next_state)\n",
    "        done = np.array(done)\n",
    "        return state, action, reward, next_state, done\n",
    "    \n",
    "    def update(self, transitions):\n",
    "        state, action, reward, next_state, done = self._prepare_batches(transitions)\n",
    "        with tf.GradientTape as tape:\n",
    "            Q_pred = tf.reduce_sum(self.q_net(state)*tf.one_hot(action, self.action_dim, dtype=tf.float64))\n",
    "            Q_next = tf.stop_gradient(tf.reduce_max(self.q_net(next_state), axis=1))\n",
    "            loss = tf.reduce_mean((Q_pred - (1 - done)*(reward + self.gamma * Q_next))**2)\n",
    "        gradients = tape.gradient(loss, self.q_net.trainable_variables)\n",
    "        self.optimizer.apply_gradients(zip(gradients, self.q_net.trainable_variables))"
   ]
  },
  {
   "cell_type": "code",
   "execution_count": 68,
   "metadata": {},
   "outputs": [],
   "source": [
    "class DDQN:\n",
    "    def __init__(self, state_dim: int, action_dim: int, hidden_sizes: List[int], gamma: float=0.95):\n",
    "        super(DDQN, self).__init__(state_dim, action_dim)\n",
    "        self.q_net = create_model(state_dim, action_dim, hidden_sizes)\n",
    "        self.target_net = create_model(state_dim, action_dim, hidden_sizes)\n",
    "        sync_models(self.q_net, self.target_net)\n",
    "        self.optimizer = tf.keras.optimizers.Adam()\n",
    "    \n",
    "    def act(self, state):\n",
    "        pass\n",
    "    \n",
    "    def update(self):\n",
    "        with tf.GradientTape as tape:\n",
    "            pass"
   ]
  },
  {
   "cell_type": "code",
   "execution_count": 69,
   "metadata": {},
   "outputs": [],
   "source": [
    "def train(env_name, num_steps: int = 20000, num_envs: int = 32):\n",
    "    env = VectorizeWrapper(partial(gym.make, env_name), num_envs)\n",
    "    state_dim = env.observation_space.shape\n",
    "    action_dim = env.action_space.n\n",
    "    agent = DQN(state_dim, action_dim, hidden_sizes=[20, 30, 20], gamma=0.95)\n",
    "    \n",
    "    rewards = []\n",
    "    #replay_buffer = ReplayBuffer()\n",
    "    episode_rewards = [[] for _ in range(num_envs)]\n",
    "    \n",
    "    state = env.reset()\n",
    "    for t in range(num_steps):\n",
    "        action = agent.act(state)\n",
    "        next_state, reward, done, info = env.step(action)\n",
    "        #replay_buffer\n",
    "        transitions = [Transition(state=s, action=a, reward=r, next_state=n, done=d)\n",
    "                       for s, a, r, n, d in zip(state, action, reward, next_state, done)]\n",
    "        agent.update(transitions)\n",
    "        \n",
    "        for i in range(num_envs):\n",
    "            episode_rewards[i] += reward[i]\n",
    "        \n",
    "        for i in range(num_envs):\n",
    "            if done[i]:\n",
    "                rewards.append(episode_rewards[i])\n",
    "                episode_rewards[i] = 0\n",
    "                enb.reset_at(i)\n",
    "    return rewards"
   ]
  },
  {
   "cell_type": "code",
   "execution_count": 70,
   "metadata": {},
   "outputs": [
    {
     "ename": "TypeError",
     "evalue": "'list' object cannot be interpreted as an integer",
     "output_type": "error",
     "traceback": [
      "\u001b[0;31m---------------------------------------------------------------------------\u001b[0m",
      "\u001b[0;31mTypeError\u001b[0m                                 Traceback (most recent call last)",
      "\u001b[0;32m<ipython-input-70-d2adc5317143>\u001b[0m in \u001b[0;36m<module>\u001b[0;34m\u001b[0m\n\u001b[0;32m----> 1\u001b[0;31m \u001b[0mrewards\u001b[0m \u001b[0;34m=\u001b[0m \u001b[0mtrain\u001b[0m\u001b[0;34m(\u001b[0m\u001b[0;34m'CartPole-v0'\u001b[0m\u001b[0;34m,\u001b[0m \u001b[0mnum_steps\u001b[0m\u001b[0;34m=\u001b[0m\u001b[0;36m20000\u001b[0m\u001b[0;34m,\u001b[0m \u001b[0mnum_envs\u001b[0m\u001b[0;34m=\u001b[0m\u001b[0;36m32\u001b[0m\u001b[0;34m)\u001b[0m\u001b[0;34m\u001b[0m\u001b[0;34m\u001b[0m\u001b[0m\n\u001b[0m",
      "\u001b[0;32m<ipython-input-69-d31220a9425c>\u001b[0m in \u001b[0;36mtrain\u001b[0;34m(env_name, num_steps, num_envs)\u001b[0m\n\u001b[1;32m      9\u001b[0m     \u001b[0mepisode_rewards\u001b[0m \u001b[0;34m=\u001b[0m \u001b[0;34m[\u001b[0m\u001b[0;34m[\u001b[0m\u001b[0;34m]\u001b[0m \u001b[0;32mfor\u001b[0m \u001b[0m_\u001b[0m \u001b[0;32min\u001b[0m \u001b[0mrange\u001b[0m\u001b[0;34m(\u001b[0m\u001b[0mnum_envs\u001b[0m\u001b[0;34m)\u001b[0m\u001b[0;34m]\u001b[0m\u001b[0;34m\u001b[0m\u001b[0;34m\u001b[0m\u001b[0m\n\u001b[1;32m     10\u001b[0m \u001b[0;34m\u001b[0m\u001b[0m\n\u001b[0;32m---> 11\u001b[0;31m     \u001b[0mstate\u001b[0m \u001b[0;34m=\u001b[0m \u001b[0menv\u001b[0m\u001b[0;34m.\u001b[0m\u001b[0mreset\u001b[0m\u001b[0;34m(\u001b[0m\u001b[0;34m)\u001b[0m\u001b[0;34m\u001b[0m\u001b[0;34m\u001b[0m\u001b[0m\n\u001b[0m\u001b[1;32m     12\u001b[0m     \u001b[0;32mfor\u001b[0m \u001b[0mt\u001b[0m \u001b[0;32min\u001b[0m \u001b[0mrange\u001b[0m\u001b[0;34m(\u001b[0m\u001b[0mnum_steps\u001b[0m\u001b[0;34m)\u001b[0m\u001b[0;34m:\u001b[0m\u001b[0;34m\u001b[0m\u001b[0;34m\u001b[0m\u001b[0m\n\u001b[1;32m     13\u001b[0m         \u001b[0maction\u001b[0m \u001b[0;34m=\u001b[0m \u001b[0magent\u001b[0m\u001b[0;34m.\u001b[0m\u001b[0mact\u001b[0m\u001b[0;34m(\u001b[0m\u001b[0mstate\u001b[0m\u001b[0;34m)\u001b[0m\u001b[0;34m\u001b[0m\u001b[0;34m\u001b[0m\u001b[0m\n",
      "\u001b[0;32m<ipython-input-55-7dca38c71c33>\u001b[0m in \u001b[0;36mreset\u001b[0;34m(self)\u001b[0m\n\u001b[1;32m      6\u001b[0m \u001b[0;34m\u001b[0m\u001b[0m\n\u001b[1;32m      7\u001b[0m     \u001b[0;32mdef\u001b[0m \u001b[0mreset\u001b[0m\u001b[0;34m(\u001b[0m\u001b[0mself\u001b[0m\u001b[0;34m)\u001b[0m\u001b[0;34m:\u001b[0m\u001b[0;34m\u001b[0m\u001b[0;34m\u001b[0m\u001b[0m\n\u001b[0;32m----> 8\u001b[0;31m         \u001b[0;32mreturn\u001b[0m \u001b[0mnp\u001b[0m\u001b[0;34m.\u001b[0m\u001b[0marray\u001b[0m\u001b[0;34m(\u001b[0m\u001b[0;34m[\u001b[0m\u001b[0menv\u001b[0m\u001b[0;34m.\u001b[0m\u001b[0mreset\u001b[0m\u001b[0;34m(\u001b[0m\u001b[0;34m)\u001b[0m \u001b[0;32mfor\u001b[0m \u001b[0menv\u001b[0m \u001b[0;32min\u001b[0m \u001b[0mrange\u001b[0m\u001b[0;34m(\u001b[0m\u001b[0mself\u001b[0m\u001b[0;34m.\u001b[0m\u001b[0menvs\u001b[0m\u001b[0;34m)\u001b[0m\u001b[0;34m]\u001b[0m\u001b[0;34m)\u001b[0m\u001b[0;34m\u001b[0m\u001b[0;34m\u001b[0m\u001b[0m\n\u001b[0m\u001b[1;32m      9\u001b[0m \u001b[0;34m\u001b[0m\u001b[0m\n\u001b[1;32m     10\u001b[0m     \u001b[0;32mdef\u001b[0m \u001b[0mreset_at\u001b[0m\u001b[0;34m(\u001b[0m\u001b[0mself\u001b[0m\u001b[0;34m,\u001b[0m \u001b[0midx\u001b[0m\u001b[0;34m:\u001b[0m \u001b[0mint\u001b[0m\u001b[0;34m)\u001b[0m\u001b[0;34m:\u001b[0m\u001b[0;34m\u001b[0m\u001b[0;34m\u001b[0m\u001b[0m\n",
      "\u001b[0;31mTypeError\u001b[0m: 'list' object cannot be interpreted as an integer"
     ]
    }
   ],
   "source": [
    "rewards = train('CartPole-v0', num_steps=20000, num_envs=32)"
   ]
  },
  {
   "cell_type": "code",
   "execution_count": null,
   "metadata": {},
   "outputs": [],
   "source": []
  },
  {
   "cell_type": "code",
   "execution_count": null,
   "metadata": {},
   "outputs": [],
   "source": []
  }
 ],
 "metadata": {
  "kernelspec": {
   "display_name": "Tensorflow",
   "language": "python",
   "name": "tensorflow"
  },
  "language_info": {
   "codemirror_mode": {
    "name": "ipython",
    "version": 3
   },
   "file_extension": ".py",
   "mimetype": "text/x-python",
   "name": "python",
   "nbconvert_exporter": "python",
   "pygments_lexer": "ipython3",
   "version": "3.7.4"
  }
 },
 "nbformat": 4,
 "nbformat_minor": 2
}
