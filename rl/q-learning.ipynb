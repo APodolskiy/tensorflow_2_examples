{
 "cells": [
  {
   "cell_type": "code",
   "execution_count": 14,
   "metadata": {},
   "outputs": [],
   "source": [
    "from collections import namedtuple\n",
    "import random\n",
    "from typing import List, NamedTuple\n",
    "\n",
    "import gym\n",
    "\n",
    "import numpy as np\n",
    "import tensorflow as tf\n",
    "from tensorflow.keras import layers"
   ]
  },
  {
   "cell_type": "code",
   "execution_count": 11,
   "metadata": {},
   "outputs": [],
   "source": [
    "Transition = namedtuple('Transition', 'state action reward next_state')"
   ]
  },
  {
   "cell_type": "code",
   "execution_count": null,
   "metadata": {},
   "outputs": [],
   "source": [
    "class VectorizeWrapper(gym.Wrapper):\n",
    "    def __init__(self):\n",
    "        pass\n",
    "    \n",
    "    def step(self):\n",
    "        pass"
   ]
  },
  {
   "cell_type": "code",
   "execution_count": 12,
   "metadata": {},
   "outputs": [],
   "source": [
    "class ReplayBuffer:\n",
    "    def __init__(self, capacity: int = 100000):\n",
    "        self.capacity = capacity\n",
    "        self.buffer = []\n",
    "        self.position = 0\n",
    "        \n",
    "    def push(self, transition):\n",
    "        if len(self.buffer) < self.capacity:\n",
    "            self.buffer.append(None)\n",
    "        self.buffer[self.position] = transition\n",
    "        self.position = (self.position + 1) % self.capacity\n",
    "    \n",
    "    def sample(self, batch_size: int) -> List[NamedTuple]:\n",
    "        if len(self.buffer) < batch_size:\n",
    "            raise ValueError(f\"Can't sample {batch_size} num elements from buffer of size {self.buffer}\")\n",
    "        return random.sample(self.buffer, batch_size)\n",
    "    \n",
    "    def __len__(self):\n",
    "        return len(self.buffer)"
   ]
  },
  {
   "cell_type": "code",
   "execution_count": 15,
   "metadata": {},
   "outputs": [],
   "source": [
    "def create_model(state_dim: int, action_dim: int, hidden_sizes: List[int]):\n",
    "    model = tf.keras.models.Sequential()\n",
    "    model.add(layers.InputLayer(input_shape=state_dim))\n",
    "    for hidden_size in hidden_sizes:\n",
    "        model.add(layers.Dense(hidden_size))\n",
    "        model.add(layers.LeakyReLU())\n",
    "    model.add(layers.Dense(action_dim))\n",
    "    \n",
    "    return model\n",
    "\n",
    "def sync_models(model1, model2):\n",
    "    model2.set_weights(model1.get_weights())"
   ]
  },
  {
   "cell_type": "code",
   "execution_count": null,
   "metadata": {},
   "outputs": [],
   "source": [
    "class Agent:\n",
    "    def __init__(self, state_dim: int, action_dim: int):\n",
    "        self.state_dim = state_dim\n",
    "        self.action_dim = action_dim\n",
    "        \n",
    "    def act(self, state):\n",
    "        raise NotImplementedError()\n",
    "        \n",
    "    def update(self, transitions):\n",
    "        raise NotImplementedError()"
   ]
  },
  {
   "cell_type": "code",
   "execution_count": null,
   "metadata": {},
   "outputs": [],
   "source": [
    "class DQN(Agent):\n",
    "    def __init__(self, state_dim: int, action_dim: int, hidden_sizes: List[int], gamma: float=0.95):\n",
    "        super(DQN, self).__init__(state_dim, action_dim)\n",
    "        self.q_net = create_model(state_dim, action_dim, hidden_sizes)\n",
    "        self.optimizer = tf.keras.optimizers.Adam()\n",
    "        \n",
    "    def act(self, state):\n",
    "        pass\n",
    "    \n",
    "    def _prepare_batches(transitions):\n",
    "        pass\n",
    "    \n",
    "    def update(self, transitions):\n",
    "        with tf.GradientTape as tape:\n",
    "            Q_pred = self.q_net()"
   ]
  },
  {
   "cell_type": "code",
   "execution_count": null,
   "metadata": {},
   "outputs": [],
   "source": [
    "class DDQN:\n",
    "    def __init__(self, state_dim: int, action_dim: int, hidden_sizes: List[int], gamma: float=0.95):\n",
    "        super(DDQN, self).__init__(state_dim, action_dim)\n",
    "        self.q_net = create_model(state_dim, action_dim, hidden_sizes)\n",
    "        self.target_net = create_model(state_dim, action_dim, hidden_sizes)\n",
    "        sync_models(self.q_net, self.target_net)\n",
    "        self.optimizer = tf.keras.optimizers.Adam()\n",
    "    \n",
    "    def act(self, state):\n",
    "        pass\n",
    "    \n",
    "    def update(self):\n",
    "        with tf.GradientTape as tape:\n",
    "            pass"
   ]
  },
  {
   "cell_type": "code",
   "execution_count": null,
   "metadata": {},
   "outputs": [],
   "source": []
  }
 ],
 "metadata": {
  "kernelspec": {
   "display_name": "Tensorflow",
   "language": "python",
   "name": "tensorflow"
  },
  "language_info": {
   "codemirror_mode": {
    "name": "ipython",
    "version": 3
   },
   "file_extension": ".py",
   "mimetype": "text/x-python",
   "name": "python",
   "nbconvert_exporter": "python",
   "pygments_lexer": "ipython3",
   "version": "3.7.4"
  }
 },
 "nbformat": 4,
 "nbformat_minor": 2
}
