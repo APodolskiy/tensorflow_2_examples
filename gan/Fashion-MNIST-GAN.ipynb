{
 "cells": [
  {
   "cell_type": "code",
   "execution_count": 1,
   "metadata": {},
   "outputs": [],
   "source": [
    "!export CUDA_VISIBLE_DEVICES=0"
   ]
  },
  {
   "cell_type": "code",
   "execution_count": 2,
   "metadata": {},
   "outputs": [],
   "source": [
    "from itertools import chain\n",
    "\n",
    "import matplotlib.pyplot as plt\n",
    "import numpy as np\n",
    "\n",
    "from IPython import display\n",
    "\n",
    "import tensorflow as tf\n",
    "import tensorflow.keras.layers as nn\n"
   ]
  },
  {
   "cell_type": "code",
   "execution_count": 3,
   "metadata": {},
   "outputs": [
    {
     "data": {
      "text/plain": [
       "'2.0.0'"
      ]
     },
     "execution_count": 3,
     "metadata": {},
     "output_type": "execute_result"
    }
   ],
   "source": [
    "tf.__version__"
   ]
  },
  {
   "cell_type": "code",
   "execution_count": 4,
   "metadata": {},
   "outputs": [],
   "source": [
    "def get_dataset(batch_size):\n",
    "    (train_data, _), (_, _) = tf.keras.datasets.fashion_mnist.load_data()\n",
    "    train_data = train_data.reshape([-1, 28, 28, 1]).astype('float32')\n",
    "    train_data = train_data / 127.5 - 1\n",
    "    dataset = tf.data.Dataset.from_tensor_slices(train_data).cache()\n",
    "    dataset = dataset.shuffle(len(train_data)).batch(batch_size)\n",
    "    dataset = dataset.prefetch(1)\n",
    "    return dataset"
   ]
  },
  {
   "cell_type": "code",
   "execution_count": 5,
   "metadata": {},
   "outputs": [],
   "source": [
    "def plot_samples(samples, nrows=4):\n",
    "    if not isinstance(samples, np.ndarray):\n",
    "        images = samples.numpy()\n",
    "    images = samples\n",
    "    num_cols = images.shape[0] // nrows\n",
    "    fig, ax = plt.subplots(nrows=nrows, ncols=num_cols)\n",
    "    for i in range(4):\n",
    "        for j in range(num_cols):\n",
    "            ax[i, j].set_axis_off()\n",
    "            ax[i, j].imshow(images[i * num_cols + j, :, :, -1], cmap='gray')"
   ]
  },
  {
   "cell_type": "code",
   "execution_count": 6,
   "metadata": {},
   "outputs": [],
   "source": [
    "def get_generator(noise_dim=64):\n",
    "    # DC-GAN like architecture\n",
    "    z = tf.keras.Input(shape=(noise_dim,))\n",
    "    # n_dim -> 256*7*7\n",
    "    x = nn.Dense(256*7*7)(z)\n",
    "    #x = nn.BatchNormalization()(x),\n",
    "    #x = nn.LeakyReLU()(x)\n",
    "    # 256*7*7 -> (7, 7, 256)\n",
    "    x = nn.Reshape((7, 7, 256))(x)\n",
    "    \n",
    "    # (7, 7, 256) -> (14, 14, 128)\n",
    "    x = nn.Conv2DTranspose(128, kernel_size=3, strides=2, padding='same')(x)\n",
    "    x = nn.BatchNormalization()(x)\n",
    "    x = nn.LeakyReLU(alpha=0.01)(x)\n",
    "    \n",
    "    # (14, 14, 128) -> (14, 14, 64)\n",
    "    x = nn.Convolution2DTranspose(64, kernel_size=3, strides=1, padding='same')(x)\n",
    "    x = nn.BatchNormalization()(x)\n",
    "    x = nn.LeakyReLU(alpha=0.01)(x)\n",
    "    \n",
    "    # (14, 14, 64) -> (28, 28, 1)\n",
    "    x = nn.Convolution2DTranspose(1, kernel_size=3, strides=2, padding='same')(x)\n",
    "    output = nn.Activation('tanh')(x)\n",
    "    \n",
    "    model = tf.keras.Model(inputs=z, outputs=output)\n",
    "    return model"
   ]
  },
  {
   "cell_type": "code",
   "execution_count": 7,
   "metadata": {},
   "outputs": [],
   "source": [
    "def get_discriminator():\n",
    "    inputs = tf.keras.Input(shape=(28, 28, 1))\n",
    "    x = nn.Conv2D(64, kernel_size=5, strides=2, padding='same', use_bias=False)(inputs)\n",
    "    x = nn.LeakyReLU()(x)\n",
    "    x = nn.Dropout(0.5)(x)\n",
    "    \n",
    "    x = nn.Conv2D(128, kernel_size=3, strides=1, padding='same', use_bias=False)(x)\n",
    "    x = nn.LeakyReLU()(x)\n",
    "    x = nn.Dropout(0.5)(x)\n",
    "    \n",
    "    x = nn.Conv2D(128, kernel_size=3, strides=1, padding='same', use_bias=False)(x)\n",
    "    x = nn.LeakyReLU()(x)\n",
    "    x = nn.Dropout(0.5)(x)\n",
    "    \n",
    "    x = nn.Flatten()(x)\n",
    "    out = nn.Dense(1)(x)\n",
    "    model = tf.keras.Model(inputs=inputs, outputs=out)\n",
    "    return model"
   ]
  },
  {
   "cell_type": "code",
   "execution_count": 8,
   "metadata": {},
   "outputs": [],
   "source": [
    "def compute_generator_loss(fake_scores):\n",
    "    loss = tf.nn.sigmoid_cross_entropy_with_logits(labels=tf.ones_like(fake_scores), \n",
    "                                                   logits=fake_scores)\n",
    "    return tf.nn.compute_average_loss(loss)\n",
    "\n",
    "\n",
    "def compute_discriminator_loss(real_scores, fake_scores):\n",
    "    loss_real = tf.nn.sigmoid_cross_entropy_with_logits(labels=tf.ones_like(real_scores),\n",
    "                                                        logits=real_scores)\n",
    "    loss_fake = tf.nn.sigmoid_cross_entropy_with_logits(labels=tf.zeros_like(fake_scores),\n",
    "                                                        logits=fake_scores)\n",
    "    loss = loss_real + loss_fake\n",
    "    return tf.nn.compute_average_loss(loss)"
   ]
  },
  {
   "cell_type": "code",
   "execution_count": 9,
   "metadata": {},
   "outputs": [],
   "source": [
    "def process_batch(batch, generator, discriminator, generator_optimizer, discriminator_optimizer):\n",
    "    bs, *_ =  tf.shape(batch)\n",
    "    noise = tf.random.normal(shape=[BATCH_SIZE, NOISE_DIM])\n",
    "    \n",
    "    with tf.GradientTape() as tape_g, tf.GradientTape() as tape_d:\n",
    "        fake_images = generator(noise, training=True)\n",
    "        real_scores = discriminator(batch, training=True)\n",
    "        fake_scores = discriminator(fake_images, training=True)\n",
    "        generator_loss = compute_generator_loss(fake_scores)\n",
    "        discriminator_loss = compute_discriminator_loss(real_scores, fake_scores)\n",
    "    \n",
    "    discriminator_gradients = tape_d.gradient(discriminator_loss, discriminator.trainable_variables)\n",
    "    generator_gradients = tape_g.gradient(generator_loss, generator.trainable_variables)\n",
    "    \n",
    "    discriminator_optimizer.apply_gradients(zip(discriminator_gradients, discriminator.trainable_variables))\n",
    "    generator_optimizer.apply_gradients(zip(generator_gradients, generator.trainable_variables))\n",
    "    \n",
    "    return discriminator_loss, generator_loss"
   ]
  },
  {
   "cell_type": "code",
   "execution_count": 10,
   "metadata": {},
   "outputs": [],
   "source": [
    "def generate_images(generator, num_samples=16):\n",
    "    noise = tf.random.normal([num_samples, NOISE_DIM])\n",
    "    generated_images = generator(noise, training=False)\n",
    "    return generated_images"
   ]
  },
  {
   "cell_type": "code",
   "execution_count": 11,
   "metadata": {},
   "outputs": [],
   "source": [
    "import time"
   ]
  },
  {
   "cell_type": "code",
   "execution_count": 12,
   "metadata": {},
   "outputs": [
    {
     "name": "stdout",
     "output_type": "stream",
     "text": [
      "Num GPUs Available:  1\n"
     ]
    }
   ],
   "source": [
    "print(\"Num GPUs Available: \", len(tf.config.experimental.list_physical_devices('GPU')))"
   ]
  },
  {
   "cell_type": "code",
   "execution_count": null,
   "metadata": {
    "scrolled": true
   },
   "outputs": [
    {
     "name": "stdout",
     "output_type": "stream",
     "text": [
      "Epoch 0.\n"
     ]
    }
   ],
   "source": [
    "# Training procedure\n",
    "EPOCHS = 150\n",
    "BATCH_SIZE = 32\n",
    "NOISE_DIM = 100\n",
    "\n",
    "dataset = get_dataset(BATCH_SIZE)\n",
    "\n",
    "generator = get_generator(noise_dim=NOISE_DIM)\n",
    "generator_optimizer = tf.keras.optimizers.Adam(1e-3)\n",
    "\n",
    "discriminator = get_discriminator()\n",
    "discriminator_optimizer = tf.keras.optimizers.Adam(1e-3)\n",
    "\n",
    "mean_discriminator_loss = tf.keras.metrics.Mean()\n",
    "mean_generator_loss = tf.keras.metrics.Mean()\n",
    "\n",
    "for epoch in range(EPOCHS):\n",
    "    print(f\"Epoch {epoch}.\")\n",
    "    s_time = time.time()\n",
    "    for batch in dataset:\n",
    "        generator_loss, discriminator_loss = process_batch(batch, \n",
    "                                                           generator, \n",
    "                                                           discriminator,\n",
    "                                                           generator_optimizer,\n",
    "                                                           discriminator_optimizer)\n",
    "        mean_discriminator_loss.update_state([discriminator_loss])\n",
    "        mean_generator_loss.update_state([generator_loss])\n",
    "        #print(f\"Generator loss: {generator_loss:.4f}. Discriminator loss: {discriminator_loss:.4f}\")\n",
    "    e_time = time.time()\n",
    "    generated_images = generate_images(generator)\n",
    "    plt.clf()\n",
    "    plot_samples(generated_images)\n",
    "    display.clear_output(wait=True)\n",
    "    print(f\"Time elapsed: {e_time - s_time}\")\n",
    "    print(f\"Genrator loss: {mean_generator_loss.result().numpy():.4f}\\n\" \\\n",
    "          f\"Discriminator loss: {mean_generator_loss.result().numpy():.4f}\")\n",
    "    mean_generator_loss.reset_states()\n",
    "    mean_discriminator_loss.reset_states()\n",
    "    print(\"Image samples\")\n",
    "    display.display(plt.gcf())"
   ]
  },
  {
   "cell_type": "code",
   "execution_count": null,
   "metadata": {},
   "outputs": [],
   "source": [
    "generated_images = generate_images(generator)\n",
    "plot_samples(generated_iamges)"
   ]
  },
  {
   "cell_type": "code",
   "execution_count": null,
   "metadata": {},
   "outputs": [],
   "source": []
  }
 ],
 "metadata": {
  "kernelspec": {
   "display_name": "Tensorflow",
   "language": "python",
   "name": "tensorflow"
  },
  "language_info": {
   "codemirror_mode": {
    "name": "ipython",
    "version": 3
   },
   "file_extension": ".py",
   "mimetype": "text/x-python",
   "name": "python",
   "nbconvert_exporter": "python",
   "pygments_lexer": "ipython3",
   "version": "3.7.4"
  }
 },
 "nbformat": 4,
 "nbformat_minor": 2
}
