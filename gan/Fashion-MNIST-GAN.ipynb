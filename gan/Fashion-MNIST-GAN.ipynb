{
 "cells": [
  {
   "cell_type": "code",
   "execution_count": 92,
   "metadata": {},
   "outputs": [],
   "source": [
    "from itertools import chain\n",
    "\n",
    "import matplotlib.pyplot as plt\n",
    "import numpy as np\n",
    "\n",
    "from IPython import display\n",
    "\n",
    "import tensorflow as tf\n",
    "import tensorflow.keras.layers as nn"
   ]
  },
  {
   "cell_type": "code",
   "execution_count": 79,
   "metadata": {},
   "outputs": [
    {
     "data": {
      "text/plain": [
       "'2.0.0'"
      ]
     },
     "execution_count": 79,
     "metadata": {},
     "output_type": "execute_result"
    }
   ],
   "source": [
    "tf.__version__"
   ]
  },
  {
   "cell_type": "code",
   "execution_count": 94,
   "metadata": {},
   "outputs": [],
   "source": [
    "def get_dataset(batch_size):\n",
    "    (train_data, _), (_, _) = tf.keras.datasets.fashion_mnist.load_data()\n",
    "    train_data = train_data.reshape([-1, 28, 28, 1]).astype('float32')\n",
    "    train_data = train_data / 127.5 - 1\n",
    "    dataset = tf.data.Dataset.from_tensor_slices(train_data).cache()\n",
    "    dataset = dataset.shuffle(len(train_data)).batch(batch_size)\n",
    "    dataset = dataset.prefetch(1)\n",
    "    return dataset"
   ]
  },
  {
   "cell_type": "code",
   "execution_count": 82,
   "metadata": {},
   "outputs": [],
   "source": [
    "def plot_samples(samples, nrows=4):\n",
    "    if not isinstance(samples, np.ndarray):\n",
    "        images = samples.numpy()\n",
    "    images = samples\n",
    "    num_cols = images.shape[0] // nrows\n",
    "    fig, ax = plt.subplots(nrows=nrows, ncols=num_cols)\n",
    "    for i in range(4):\n",
    "        for j in range(num_cols):\n",
    "            ax[i, j].set_axis_off()\n",
    "            ax[i, j].imshow(images[i * num_cols + j, :, :, -1], cmap='gray')\n",
    "    plt.show()"
   ]
  },
  {
   "cell_type": "code",
   "execution_count": 83,
   "metadata": {},
   "outputs": [
    {
     "data": {
      "image/png": "[encoded data removed]",
      "text/plain": [
       "<Figure size 432x288 with 16 Axes>"
      ]
     },
     "metadata": {
      "needs_background": "light"
     },
     "output_type": "display_data"
    }
   ],
   "source": [
    "plot_samples(train_data[:16, ...])"
   ]
  },
  {
   "cell_type": "code",
   "execution_count": 84,
   "metadata": {},
   "outputs": [],
   "source": [
    "def get_generator(noise_dim=64):\n",
    "    # DC-GAN like architecture\n",
    "    z = tf.keras.Input(shape=(noise_dim,))\n",
    "    # n_dim -> 256*7*7\n",
    "    x = nn.Dense(256*7*7)(z)\n",
    "    #x = nn.BatchNormalization()(x),\n",
    "    #x = nn.LeakyReLU()(x)\n",
    "    # 256*7*7 -> (7, 7, 256)\n",
    "    x = nn.Reshape((7, 7, 256))(x)\n",
    "    \n",
    "    # (7, 7, 256) -> (14, 14, 128)\n",
    "    x = nn.Conv2DTranspose(128, kernel_size=3, strides=2, padding='same')(x)\n",
    "    x = nn.BatchNormalization()(x)\n",
    "    x = nn.LeakyReLU(alpha=0.01)(x)\n",
    "    \n",
    "    # (14, 14, 128) -> (14, 14, 64)\n",
    "    x = nn.Convolution2DTranspose(64, kernel_size=3, strides=1, padding='same')(x)\n",
    "    x = nn.BatchNormalization()(x)\n",
    "    x = nn.LeakyReLU(alpha=0.01)(x)\n",
    "    \n",
    "    # (14, 14, 64) -> (28, 28, 1)\n",
    "    x = nn.Convolution2DTranspose(1, kernel_size=3, strides=2, padding='same')(x)\n",
    "    output = nn.Activation('tanh')(x)\n",
    "    \n",
    "    model = tf.keras.Model(inputs=z, outputs=output)\n",
    "    return model"
   ]
  },
  {
   "cell_type": "code",
   "execution_count": 85,
   "metadata": {},
   "outputs": [],
   "source": [
    "def get_discriminator():\n",
    "    inputs = tf.keras.Input(shape=(28, 28, 1))\n",
    "    x = nn.Conv2D(64, kernel_size=5, strides=2, padding='same', use_bias=False)(inputs)\n",
    "    x = nn.LeakyReLU()(x)\n",
    "    x = nn.Dropout(0.5)(x)\n",
    "    \n",
    "    x = nn.Conv2D(128, kernel_size=3, strides=1, padding='same', use_bias=False)(x)\n",
    "    x = nn.LeakyReLU()(x)\n",
    "    x = nn.Dropout(0.5)(x)\n",
    "    \n",
    "    x = nn.Conv2D(128, kernel_size=3, strides=1, padding='same', use_bias=False)(x)\n",
    "    x = nn.LeakyReLU()(x)\n",
    "    x = nn.Dropout(0.5)(x)\n",
    "    \n",
    "    x = nn.Flatten()(x)\n",
    "    out = nn.Dense(1)(x)\n",
    "    model = tf.keras.Model(inputs=inputs, outputs=out)\n",
    "    return model"
   ]
  },
  {
   "cell_type": "code",
   "execution_count": 88,
   "metadata": {},
   "outputs": [],
   "source": [
    "def compute_generator_loss(fake_scores):\n",
    "    loss = tf.nn.sigmoid_cross_entropy_with_logits(labels=tf.ones_like(fake_scores), \n",
    "                                                   logits=fake_scores)\n",
    "    return tf.nn.compute_average_loss(loss)\n",
    "\n",
    "\n",
    "def compute_discriminator_loss(real_scores, fake_scores):\n",
    "    loss_real = tf.nn.sigmoid_cross_entropy_with_logits(labels=tf.ones_like(real_scores),\n",
    "                                                        logits=real_scores)\n",
    "    loss_fake = tf.nn.sigmoid_cross_entropy_with_logits(labels=tf.zeros_like(fake_scores),\n",
    "                                                        logits=fake_scores)\n",
    "    loss = loss_real + loss_fake\n",
    "    return tf.nn.compute_average_loss(loss)"
   ]
  },
  {
   "cell_type": "code",
   "execution_count": 107,
   "metadata": {},
   "outputs": [],
   "source": [
    "def process_batch(batch, generator, discriminator, generator_optimizer, discriminator_optimizer):\n",
    "    bs, *_ =  tf.shape(batch)\n",
    "    noise = tf.random.normal(shape=[BATCH_SIZE, NOISE_DIM])\n",
    "    \n",
    "    with tf.GradientTape() as tape_g, tf.GradientTape() as tape_d:\n",
    "        fake_images = generator(noise, training=True)\n",
    "        real_scores = discriminator(batch, training=True)\n",
    "        fake_scores = discriminator(fake_images, training=True)\n",
    "        generator_loss = compute_generator_loss(fake_scores)\n",
    "        discriminator_loss = compute_discriminator_loss(real_scores, fake_scores)\n",
    "    \n",
    "    discriminator_gradients = tape_d.gradient(discriminator_loss, discriminator.trainable_variables)\n",
    "    generator_gradients = tape_g.gradient(generator_loss, generator.trainable_variables)\n",
    "    \n",
    "    discriminator_optimizer.apply_gradients(zip(discriminator_gradients, discriminator.trainable_variables))\n",
    "    generator_optimizer.apply_gradients(zip(generator_gradients, generator.trainable_variables))\n",
    "    \n",
    "    return discriminator_loss, generator_loss"
   ]
  },
  {
   "cell_type": "code",
   "execution_count": 108,
   "metadata": {},
   "outputs": [],
   "source": [
    "def generate_images(generator, num_samples=16):\n",
    "    noise = tf.random.normal([num_samples, NOISE_DIM])\n",
    "    generated_images = generator(noise, training=False)\n",
    "    return generated_images"
   ]
  },
  {
   "cell_type": "code",
   "execution_count": 112,
   "metadata": {
    "scrolled": true
   },
   "outputs": [
    {
     "name": "stdout",
     "output_type": "stream",
     "text": [
      "Epoch 0.\n",
      "Generator loss: 1.3977. Discriminator loss: 0.6894\n",
      "Generator loss: 1.1907. Discriminator loss: 0.6033\n",
      "Generator loss: 1.0312. Discriminator loss: 0.5796\n",
      "Generator loss: 0.8482. Discriminator loss: 0.6271\n",
      "Generator loss: 0.6728. Discriminator loss: 0.7755\n",
      "Generator loss: 0.4956. Discriminator loss: 1.0149\n",
      "Generator loss: 0.3339. Discriminator loss: 1.4379\n",
      "Generator loss: 0.2615. Discriminator loss: 1.9622\n",
      "Generator loss: 0.6418. Discriminator loss: 2.1158\n",
      "Generator loss: 0.9201. Discriminator loss: 1.0073\n",
      "Generator loss: 1.4580. Discriminator loss: 0.8406\n",
      "Generator loss: 2.3729. Discriminator loss: 1.0174\n",
      "Generator loss: 2.1671. Discriminator loss: 0.2978\n",
      "Generator loss: 2.4162. Discriminator loss: 0.1901\n",
      "Generator loss: 1.2038. Discriminator loss: 0.7769\n",
      "Generator loss: 1.2939. Discriminator loss: 2.2360\n",
      "Generator loss: 0.4576. Discriminator loss: 2.7389\n",
      "Generator loss: 0.2314. Discriminator loss: 2.1175\n",
      "Generator loss: 0.2436. Discriminator loss: 2.2571\n",
      "Generator loss: 0.1750. Discriminator loss: 2.3667\n",
      "Generator loss: 0.1166. Discriminator loss: 2.8899\n",
      "Generator loss: 0.0818. Discriminator loss: 3.1605\n",
      "Generator loss: 0.0759. Discriminator loss: 3.3236\n",
      "Generator loss: 0.1008. Discriminator loss: 3.5200\n",
      "Generator loss: 0.1654. Discriminator loss: 3.1197\n",
      "Generator loss: 0.2332. Discriminator loss: 2.9574\n",
      "Generator loss: 0.3590. Discriminator loss: 2.6169\n",
      "Generator loss: 0.7916. Discriminator loss: 2.0737\n",
      "Generator loss: 1.0648. Discriminator loss: 1.7893\n",
      "Generator loss: 1.4604. Discriminator loss: 0.9708\n",
      "Generator loss: 1.6293. Discriminator loss: 1.3513\n",
      "Generator loss: 2.0278. Discriminator loss: 1.2283\n",
      "Generator loss: 1.8025. Discriminator loss: 1.3107\n",
      "Generator loss: 1.4557. Discriminator loss: 2.7125\n",
      "Generator loss: 1.1218. Discriminator loss: 3.2070\n",
      "Generator loss: 1.0899. Discriminator loss: 4.5788\n",
      "Generator loss: 0.6837. Discriminator loss: 5.6741\n",
      "Generator loss: 0.4059. Discriminator loss: 6.4859\n",
      "Generator loss: 0.3146. Discriminator loss: 6.4915\n",
      "Generator loss: 0.2311. Discriminator loss: 5.3545\n",
      "Generator loss: 0.1777. Discriminator loss: 4.3073\n",
      "Generator loss: 0.0680. Discriminator loss: 4.6996\n",
      "Generator loss: 0.1468. Discriminator loss: 4.8542\n",
      "Generator loss: 0.5149. Discriminator loss: 2.4789\n",
      "Generator loss: 0.6595. Discriminator loss: 2.5630\n",
      "Generator loss: 0.8861. Discriminator loss: 3.4794\n",
      "Generator loss: 0.7010. Discriminator loss: 2.8187\n",
      "Generator loss: 0.6007. Discriminator loss: 4.1316\n",
      "Generator loss: 0.1800. Discriminator loss: 7.0935\n",
      "Generator loss: 0.2627. Discriminator loss: 10.4205\n",
      "Generator loss: 0.1747. Discriminator loss: 13.1076\n",
      "Generator loss: 0.0484. Discriminator loss: 12.3770\n",
      "Generator loss: 0.0206. Discriminator loss: 13.3007\n",
      "Generator loss: 0.0436. Discriminator loss: 13.0717\n",
      "Generator loss: 0.0767. Discriminator loss: 12.5907\n",
      "Generator loss: 0.0953. Discriminator loss: 12.8094\n",
      "Generator loss: 0.0149. Discriminator loss: 15.4576\n",
      "Generator loss: 0.0089. Discriminator loss: 16.4018\n",
      "Generator loss: 0.0504. Discriminator loss: 14.0054\n",
      "Generator loss: 0.2157. Discriminator loss: 15.3671\n",
      "Generator loss: 0.5204. Discriminator loss: 11.5735\n",
      "Generator loss: 4.2939. Discriminator loss: 7.8787\n",
      "Generator loss: 6.1190. Discriminator loss: 8.8904\n",
      "Generator loss: 6.3028. Discriminator loss: 10.1116\n",
      "Generator loss: 6.5554. Discriminator loss: 10.5317\n",
      "Generator loss: 3.7072. Discriminator loss: 9.1332\n",
      "Generator loss: 3.6430. Discriminator loss: 9.3424\n",
      "Generator loss: 1.4128. Discriminator loss: 9.7055\n",
      "Generator loss: 0.9514. Discriminator loss: 12.4674\n",
      "Generator loss: 0.6265. Discriminator loss: 9.0637\n",
      "Generator loss: 0.7763. Discriminator loss: 7.7891\n",
      "Generator loss: 0.2799. Discriminator loss: 6.3495\n",
      "Generator loss: 0.7989. Discriminator loss: 6.5135\n",
      "Generator loss: 0.5622. Discriminator loss: 6.6691\n",
      "Generator loss: 0.3225. Discriminator loss: 4.7836\n",
      "Generator loss: 0.7181. Discriminator loss: 4.4548\n",
      "Generator loss: 0.1004. Discriminator loss: 5.8338\n",
      "Generator loss: 0.1221. Discriminator loss: 6.3018\n",
      "Generator loss: 0.1917. Discriminator loss: 6.6320\n",
      "Generator loss: 0.2404. Discriminator loss: 6.4260\n",
      "Generator loss: 0.4511. Discriminator loss: 7.0208\n",
      "Generator loss: 0.1417. Discriminator loss: 6.0819\n",
      "Generator loss: 0.2418. Discriminator loss: 5.9277\n",
      "Generator loss: 0.1430. Discriminator loss: 6.8850\n",
      "Generator loss: 0.1679. Discriminator loss: 8.2727\n",
      "Generator loss: 0.2230. Discriminator loss: 8.4228\n",
      "Generator loss: 0.2821. Discriminator loss: 7.7260\n"
     ]
    },
    {
     "ename": "KeyboardInterrupt",
     "evalue": "",
     "output_type": "error",
     "traceback": [
      "\u001b[0;31m---------------------------------------------------------------------------\u001b[0m",
      "\u001b[0;31mKeyboardInterrupt\u001b[0m                         Traceback (most recent call last)",
      "\u001b[0;32m<ipython-input-112-b813a6ea8877>\u001b[0m in \u001b[0;36m<module>\u001b[0;34m\u001b[0m\n\u001b[1;32m     20\u001b[0m                                                            \u001b[0mdiscriminator\u001b[0m\u001b[0;34m,\u001b[0m\u001b[0;34m\u001b[0m\u001b[0;34m\u001b[0m\u001b[0m\n\u001b[1;32m     21\u001b[0m                                                            \u001b[0mgenerator_optimizer\u001b[0m\u001b[0;34m,\u001b[0m\u001b[0;34m\u001b[0m\u001b[0;34m\u001b[0m\u001b[0m\n\u001b[0;32m---> 22\u001b[0;31m                                                            discriminator_optimizer)\n\u001b[0m\u001b[1;32m     23\u001b[0m         \u001b[0mprint\u001b[0m\u001b[0;34m(\u001b[0m\u001b[0;34mf\"Generator loss: {generator_loss:.4f}. Discriminator loss: {discriminator_loss:.4f}\"\u001b[0m\u001b[0;34m)\u001b[0m\u001b[0;34m\u001b[0m\u001b[0;34m\u001b[0m\u001b[0m\n\u001b[1;32m     24\u001b[0m     \u001b[0mprint\u001b[0m\u001b[0;34m(\u001b[0m\u001b[0;34m\"Image samples\"\u001b[0m\u001b[0;34m)\u001b[0m\u001b[0;34m\u001b[0m\u001b[0;34m\u001b[0m\u001b[0m\n",
      "\u001b[0;32m<ipython-input-107-eda88b2eb1db>\u001b[0m in \u001b[0;36mprocess_batch\u001b[0;34m(batch, generator, discriminator, generator_optimizer, discriminator_optimizer)\u001b[0m\n\u001b[1;32m     10\u001b[0m         \u001b[0mdiscriminator_loss\u001b[0m \u001b[0;34m=\u001b[0m \u001b[0mcompute_discriminator_loss\u001b[0m\u001b[0;34m(\u001b[0m\u001b[0mreal_scores\u001b[0m\u001b[0;34m,\u001b[0m \u001b[0mfake_scores\u001b[0m\u001b[0;34m)\u001b[0m\u001b[0;34m\u001b[0m\u001b[0;34m\u001b[0m\u001b[0m\n\u001b[1;32m     11\u001b[0m \u001b[0;34m\u001b[0m\u001b[0m\n\u001b[0;32m---> 12\u001b[0;31m     \u001b[0mdiscriminator_gradients\u001b[0m \u001b[0;34m=\u001b[0m \u001b[0mtape_d\u001b[0m\u001b[0;34m.\u001b[0m\u001b[0mgradient\u001b[0m\u001b[0;34m(\u001b[0m\u001b[0mdiscriminator_loss\u001b[0m\u001b[0;34m,\u001b[0m \u001b[0mdiscriminator\u001b[0m\u001b[0;34m.\u001b[0m\u001b[0mtrainable_variables\u001b[0m\u001b[0;34m)\u001b[0m\u001b[0;34m\u001b[0m\u001b[0;34m\u001b[0m\u001b[0m\n\u001b[0m\u001b[1;32m     13\u001b[0m     \u001b[0mgenerator_gradients\u001b[0m \u001b[0;34m=\u001b[0m \u001b[0mtape_g\u001b[0m\u001b[0;34m.\u001b[0m\u001b[0mgradient\u001b[0m\u001b[0;34m(\u001b[0m\u001b[0mgenerator_loss\u001b[0m\u001b[0;34m,\u001b[0m \u001b[0mgenerator\u001b[0m\u001b[0;34m.\u001b[0m\u001b[0mtrainable_variables\u001b[0m\u001b[0;34m)\u001b[0m\u001b[0;34m\u001b[0m\u001b[0;34m\u001b[0m\u001b[0m\n\u001b[1;32m     14\u001b[0m \u001b[0;34m\u001b[0m\u001b[0m\n",
      "\u001b[0;32m~/anaconda3/envs/tensorflow/lib/python3.7/site-packages/tensorflow_core/python/eager/backprop.py\u001b[0m in \u001b[0;36mgradient\u001b[0;34m(self, target, sources, output_gradients, unconnected_gradients)\u001b[0m\n\u001b[1;32m   1012\u001b[0m         \u001b[0moutput_gradients\u001b[0m\u001b[0;34m=\u001b[0m\u001b[0moutput_gradients\u001b[0m\u001b[0;34m,\u001b[0m\u001b[0;34m\u001b[0m\u001b[0;34m\u001b[0m\u001b[0m\n\u001b[1;32m   1013\u001b[0m         \u001b[0msources_raw\u001b[0m\u001b[0;34m=\u001b[0m\u001b[0mflat_sources_raw\u001b[0m\u001b[0;34m,\u001b[0m\u001b[0;34m\u001b[0m\u001b[0;34m\u001b[0m\u001b[0m\n\u001b[0;32m-> 1014\u001b[0;31m         unconnected_gradients=unconnected_gradients)\n\u001b[0m\u001b[1;32m   1015\u001b[0m \u001b[0;34m\u001b[0m\u001b[0m\n\u001b[1;32m   1016\u001b[0m     \u001b[0;32mif\u001b[0m \u001b[0;32mnot\u001b[0m \u001b[0mself\u001b[0m\u001b[0;34m.\u001b[0m\u001b[0m_persistent\u001b[0m\u001b[0;34m:\u001b[0m\u001b[0;34m\u001b[0m\u001b[0;34m\u001b[0m\u001b[0m\n",
      "\u001b[0;32m~/anaconda3/envs/tensorflow/lib/python3.7/site-packages/tensorflow_core/python/eager/imperative_grad.py\u001b[0m in \u001b[0;36mimperative_grad\u001b[0;34m(tape, target, sources, output_gradients, sources_raw, unconnected_gradients)\u001b[0m\n\u001b[1;32m     74\u001b[0m       \u001b[0moutput_gradients\u001b[0m\u001b[0;34m,\u001b[0m\u001b[0;34m\u001b[0m\u001b[0;34m\u001b[0m\u001b[0m\n\u001b[1;32m     75\u001b[0m       \u001b[0msources_raw\u001b[0m\u001b[0;34m,\u001b[0m\u001b[0;34m\u001b[0m\u001b[0;34m\u001b[0m\u001b[0m\n\u001b[0;32m---> 76\u001b[0;31m       compat.as_str(unconnected_gradients.value))\n\u001b[0m",
      "\u001b[0;32m~/anaconda3/envs/tensorflow/lib/python3.7/site-packages/tensorflow_core/python/eager/backprop.py\u001b[0m in \u001b[0;36m_gradient_function\u001b[0;34m(op_name, attr_tuple, num_inputs, inputs, outputs, out_grads, skip_input_indices)\u001b[0m\n\u001b[1;32m    136\u001b[0m     \u001b[0;32mreturn\u001b[0m \u001b[0;34m[\u001b[0m\u001b[0;32mNone\u001b[0m\u001b[0;34m]\u001b[0m \u001b[0;34m*\u001b[0m \u001b[0mnum_inputs\u001b[0m\u001b[0;34m\u001b[0m\u001b[0;34m\u001b[0m\u001b[0m\n\u001b[1;32m    137\u001b[0m \u001b[0;34m\u001b[0m\u001b[0m\n\u001b[0;32m--> 138\u001b[0;31m   \u001b[0;32mreturn\u001b[0m \u001b[0mgrad_fn\u001b[0m\u001b[0;34m(\u001b[0m\u001b[0mmock_op\u001b[0m\u001b[0;34m,\u001b[0m \u001b[0;34m*\u001b[0m\u001b[0mout_grads\u001b[0m\u001b[0;34m)\u001b[0m\u001b[0;34m\u001b[0m\u001b[0;34m\u001b[0m\u001b[0m\n\u001b[0m\u001b[1;32m    139\u001b[0m \u001b[0;34m\u001b[0m\u001b[0m\n\u001b[1;32m    140\u001b[0m \u001b[0;34m\u001b[0m\u001b[0m\n",
      "\u001b[0;32m~/anaconda3/envs/tensorflow/lib/python3.7/site-packages/tensorflow_core/python/ops/nn_grad.py\u001b[0m in \u001b[0;36m_Conv2DGrad\u001b[0;34m(op, grad)\u001b[0m\n\u001b[1;32m    594\u001b[0m           \u001b[0mexplicit_paddings\u001b[0m\u001b[0;34m=\u001b[0m\u001b[0mexplicit_paddings\u001b[0m\u001b[0;34m,\u001b[0m\u001b[0;34m\u001b[0m\u001b[0;34m\u001b[0m\u001b[0m\n\u001b[1;32m    595\u001b[0m           \u001b[0muse_cudnn_on_gpu\u001b[0m\u001b[0;34m=\u001b[0m\u001b[0muse_cudnn_on_gpu\u001b[0m\u001b[0;34m,\u001b[0m\u001b[0;34m\u001b[0m\u001b[0;34m\u001b[0m\u001b[0m\n\u001b[0;32m--> 596\u001b[0;31m           data_format=data_format),\n\u001b[0m\u001b[1;32m    597\u001b[0m       gen_nn_ops.conv2d_backprop_filter(\n\u001b[1;32m    598\u001b[0m           \u001b[0mop\u001b[0m\u001b[0;34m.\u001b[0m\u001b[0minputs\u001b[0m\u001b[0;34m[\u001b[0m\u001b[0;36m0\u001b[0m\u001b[0;34m]\u001b[0m\u001b[0;34m,\u001b[0m\u001b[0;34m\u001b[0m\u001b[0;34m\u001b[0m\u001b[0m\n",
      "\u001b[0;32m~/anaconda3/envs/tensorflow/lib/python3.7/site-packages/tensorflow_core/python/ops/gen_nn_ops.py\u001b[0m in \u001b[0;36mconv2d_backprop_input\u001b[0;34m(input_sizes, filter, out_backprop, strides, padding, use_cudnn_on_gpu, explicit_paddings, data_format, dilations, name)\u001b[0m\n\u001b[1;32m   1354\u001b[0m         \u001b[0;34m\"use_cudnn_on_gpu\"\u001b[0m\u001b[0;34m,\u001b[0m \u001b[0muse_cudnn_on_gpu\u001b[0m\u001b[0;34m,\u001b[0m \u001b[0;34m\"padding\"\u001b[0m\u001b[0;34m,\u001b[0m \u001b[0mpadding\u001b[0m\u001b[0;34m,\u001b[0m\u001b[0;34m\u001b[0m\u001b[0;34m\u001b[0m\u001b[0m\n\u001b[1;32m   1355\u001b[0m         \u001b[0;34m\"explicit_paddings\"\u001b[0m\u001b[0;34m,\u001b[0m \u001b[0mexplicit_paddings\u001b[0m\u001b[0;34m,\u001b[0m \u001b[0;34m\"data_format\"\u001b[0m\u001b[0;34m,\u001b[0m \u001b[0mdata_format\u001b[0m\u001b[0;34m,\u001b[0m\u001b[0;34m\u001b[0m\u001b[0;34m\u001b[0m\u001b[0m\n\u001b[0;32m-> 1356\u001b[0;31m         \"dilations\", dilations)\n\u001b[0m\u001b[1;32m   1357\u001b[0m       \u001b[0;32mreturn\u001b[0m \u001b[0m_result\u001b[0m\u001b[0;34m\u001b[0m\u001b[0;34m\u001b[0m\u001b[0m\n\u001b[1;32m   1358\u001b[0m     \u001b[0;32mexcept\u001b[0m \u001b[0m_core\u001b[0m\u001b[0;34m.\u001b[0m\u001b[0m_FallbackException\u001b[0m\u001b[0;34m:\u001b[0m\u001b[0;34m\u001b[0m\u001b[0;34m\u001b[0m\u001b[0m\n",
      "\u001b[0;31mKeyboardInterrupt\u001b[0m: "
     ]
    }
   ],
   "source": [
    "# Training procedure\n",
    "EPOCHS = 50\n",
    "BATCH_SIZE = 32\n",
    "NOISE_DIM = 100\n",
    "\n",
    "dataset = get_dataset(BATCH_SIZE)\n",
    "\n",
    "generator = get_generator(noise_dim=NOISE_DIM)\n",
    "generator_optimizer = tf.keras.optimizers.Adam(1e-3)\n",
    "\n",
    "discriminator = get_discriminator()\n",
    "discriminator_optimizer = tf.keras.optimizers.Adam(1e-3)\n",
    "\n",
    "gen_loss_metric\n",
    "\n",
    "for epoch in range(EPOCHS):\n",
    "    display.clear_output(wait=True)\n",
    "    print(f\"Epoch {epoch}.\")\n",
    "    for batch in dataset:\n",
    "        generator_loss, discriminator_loss = process_batch(batch, \n",
    "                                                           generator, \n",
    "                                                           discriminator,\n",
    "                                                           generator_optimizer,\n",
    "                                                           discriminator_optimizer)\n",
    "        print(f\"Generator loss: {generator_loss:.4f}. Discriminator loss: {discriminator_loss:.4f}\")\n",
    "    print(\"Image samples\")\n",
    "    generated_images = generate_images(generator)\n",
    "    plot_samples(generated_images)\n",
    "    display.display(plt.gcf())"
   ]
  },
  {
   "cell_type": "code",
   "execution_count": null,
   "metadata": {},
   "outputs": [],
   "source": []
  },
  {
   "cell_type": "code",
   "execution_count": null,
   "metadata": {},
   "outputs": [],
   "source": []
  }
 ],
 "metadata": {
  "kernelspec": {
   "display_name": "Tensorflow",
   "language": "python",
   "name": "tensorflow"
  },
  "language_info": {
   "codemirror_mode": {
    "name": "ipython",
    "version": 3
   },
   "file_extension": ".py",
   "mimetype": "text/x-python",
   "name": "python",
   "nbconvert_exporter": "python",
   "pygments_lexer": "ipython3",
   "version": "3.7.4"
  }
 },
 "nbformat": 4,
 "nbformat_minor": 2
}
